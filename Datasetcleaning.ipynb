{
 "cells": [
  {
   "cell_type": "code",
   "execution_count": 45,
   "id": "812980a6-2767-4a03-89fe-255ac521ea8b",
   "metadata": {},
   "outputs": [
    {
     "name": "stdout",
     "output_type": "stream",
     "text": [
      "                                               title  \\\n",
      "0   Donald Trump Sends Out Embarrassing New Year’...   \n",
      "1   Drunk Bragging Trump Staffer Started Russian ...   \n",
      "2   Sheriff David Clarke Becomes An Internet Joke...   \n",
      "3   Trump Is So Obsessed He Even Has Obama’s Name...   \n",
      "4   Pope Francis Just Called Out Donald Trump Dur...   \n",
      "\n",
      "                                                text subject  \\\n",
      "0  Donald Trump just couldn t wish all Americans ...    News   \n",
      "1  House Intelligence Committee Chairman Devin Nu...    News   \n",
      "2  On Friday, it was revealed that former Milwauk...    News   \n",
      "3  On Christmas day, Donald Trump announced that ...    News   \n",
      "4  Pope Francis used his annual Christmas Day mes...    News   \n",
      "\n",
      "                date  label  \n",
      "0  December 31, 2017      0  \n",
      "1  December 31, 2017      0  \n",
      "2  December 30, 2017      0  \n",
      "3  December 29, 2017      0  \n",
      "4  December 25, 2017      0  \n"
     ]
    }
   ],
   "source": [
    "import pandas as pd\n",
    "\n",
    "# Load the datasets\n",
    "df_fake = pd.read_csv(\"Fake.csv\", low_memory=False)\n",
    "df_real = pd.read_csv(\"True.csv\", low_memory=False)\n",
    "\n",
    "# Add a \"label\" column (0 = Fake, 1 = Real)\n",
    "df_fake[\"label\"] = 0\n",
    "df_real[\"label\"] = 1\n",
    "\n",
    "# Combine both datasets\n",
    "df = pd.concat([df_fake, df_real], ignore_index=True)\n",
    "\n",
    "# View dataset structure\n",
    "print(df.head())\n"
   ]
  },
  {
   "cell_type": "code",
   "execution_count": 46,
   "id": "62dfbbc7-5dcf-4d78-b89d-c529dd68cb94",
   "metadata": {},
   "outputs": [
    {
     "name": "stdout",
     "output_type": "stream",
     "text": [
      "title      0\n",
      "text       0\n",
      "subject    0\n",
      "date       0\n",
      "label      0\n",
      "dtype: int64\n"
     ]
    }
   ],
   "source": [
    "# Check for missing values\n",
    "print(df.isnull().sum())\n",
    "\n",
    "# Drop rows with missing values\n",
    "df.dropna(inplace=True)\n"
   ]
  },
  {
   "cell_type": "code",
   "execution_count": 47,
   "id": "1e6b0de0-862b-4fff-9d3c-1c0c60cc7d39",
   "metadata": {},
   "outputs": [
    {
     "name": "stdout",
     "output_type": "stream",
     "text": [
      "Duplicate Rows:\n",
      "                                                   title  \\\n",
      "9942   HILLARY TWEETS MESSAGE In Defense Of DACA…OOPS...   \n",
      "11446  FORMER DEMOCRAT WARNS Young Americans: “Rioter...   \n",
      "14925  [VIDEO] #BlackLivesMatter Terrorists Storm Dar...   \n",
      "23926  Senate tax bill stalls on deficit-focused 'tri...   \n",
      "24259  Trump warns 'rogue regime' North Korea of grav...   \n",
      "...                                                  ...   \n",
      "44709  France unveils labor reforms in first step to ...   \n",
      "44744  Guatemala top court sides with U.N. graft unit...   \n",
      "44771  Europeans, Africans agree renewed push to tack...   \n",
      "44834  Thailand's ousted PM Yingluck has fled abroad:...   \n",
      "44889  U.S., North Korea clash at U.N. forum over nuc...   \n",
      "\n",
      "                                                    text       subject  \\\n",
      "9942   No time to waste   we've got to fight with eve...      politics   \n",
      "11446   Who is silencing political speech, physically...      politics   \n",
      "14925  They were probably just looking for a  safe sp...      politics   \n",
      "23926  WASHINGTON (Reuters) - The U.S. Senate on Thur...  politicsNews   \n",
      "24259  BEIJING (Reuters) - U.S. President Donald Trum...  politicsNews   \n",
      "...                                                  ...           ...   \n",
      "44709  PARIS (Reuters) - French President Emmanuel Ma...     worldnews   \n",
      "44744  GUATEMALA CITY (Reuters) - Guatemala s top cou...     worldnews   \n",
      "44771  PARIS (Reuters) - Europe s  big four  continen...     worldnews   \n",
      "44834  BANGKOK (Reuters) - Ousted Thai prime minister...     worldnews   \n",
      "44889  GENEVA (Reuters) - North Korea and the United ...     worldnews   \n",
      "\n",
      "                     date  label  \n",
      "9942          Sep 9, 2017      0  \n",
      "11446        Mar 10, 2017      0  \n",
      "14925        Nov 16, 2015      0  \n",
      "23926  November 30, 2017       1  \n",
      "24259   November 8, 2017       1  \n",
      "...                   ...    ...  \n",
      "44709    August 31, 2017       1  \n",
      "44744    August 29, 2017       1  \n",
      "44771    August 28, 2017       1  \n",
      "44834    August 25, 2017       1  \n",
      "44889    August 22, 2017       1  \n",
      "\n",
      "[209 rows x 5 columns]\n"
     ]
    }
   ],
   "source": [
    "# Find duplicate rows\n",
    "duplicates = df[df.duplicated()]\n",
    "\n",
    "# Print the duplicates\n",
    "print(\"Duplicate Rows:\")\n",
    "print(duplicates)\n",
    "df.drop_duplicates(inplace=True)\n"
   ]
  },
  {
   "cell_type": "code",
   "execution_count": 48,
   "id": "dc532dfa-22cc-40db-9b7c-f23c0fecab8a",
   "metadata": {},
   "outputs": [],
   "source": [
    "df['category'] = df['subject'].astype('category')"
   ]
  },
  {
   "cell_type": "code",
   "execution_count": 49,
   "id": "2dac562d-b927-465e-9cb3-340250afde9e",
   "metadata": {},
   "outputs": [],
   "source": [
    "from sklearn.preprocessing import LabelEncoder\n",
    "le = LabelEncoder()\n",
    "df['subject'] = le.fit_transform(df['subject'])"
   ]
  },
  {
   "cell_type": "code",
   "execution_count": 50,
   "id": "a6bc9f8f-e4aa-45d6-91e4-d18616902703",
   "metadata": {},
   "outputs": [
    {
     "name": "stdout",
     "output_type": "stream",
     "text": [
      "(35751, 6)\n",
      "(8938, 6)\n"
     ]
    }
   ],
   "source": [
    "from sklearn.model_selection import train_test_split\n",
    "df_train, df_test = train_test_split(df, test_size=0.2, random_state=42)\n",
    "print(df_train.shape)\n",
    "print(df_test.shape)"
   ]
  },
  {
   "cell_type": "code",
   "execution_count": 25,
   "id": "f46447f2-c724-4d54-b2cd-776046b6166a",
   "metadata": {},
   "outputs": [
    {
     "name": "stdout",
     "output_type": "stream",
     "text": [
      "Requirement already satisfied: cryptography in c:\\python312\\lib\\site-packages (44.0.1)\n",
      "Requirement already satisfied: cffi>=1.12 in c:\\users\\msi\\appdata\\roaming\\python\\python312\\site-packages (from cryptography) (1.16.0)\n",
      "Requirement already satisfied: pycparser in c:\\users\\msi\\appdata\\roaming\\python\\python312\\site-packages (from cffi>=1.12->cryptography) (2.22)\n",
      "Note: you may need to restart the kernel to use updated packages.\n"
     ]
    },
    {
     "name": "stderr",
     "output_type": "stream",
     "text": [
      "WARNING: Ignoring invalid distribution ~ensorboard (C:\\Python312\\Lib\\site-packages)\n",
      "WARNING: Ignoring invalid distribution ~ensorflow-intel (C:\\Python312\\Lib\\site-packages)\n",
      "WARNING: Ignoring invalid distribution ~ensorboard (C:\\Python312\\Lib\\site-packages)\n",
      "WARNING: Ignoring invalid distribution ~ensorflow-intel (C:\\Python312\\Lib\\site-packages)\n",
      "WARNING: Ignoring invalid distribution ~ensorboard (C:\\Python312\\Lib\\site-packages)\n",
      "WARNING: Ignoring invalid distribution ~ensorflow-intel (C:\\Python312\\Lib\\site-packages)\n",
      "\n",
      "[notice] A new release of pip is available: 24.3.1 -> 25.0.1\n",
      "[notice] To update, run: python.exe -m pip install --upgrade pip\n"
     ]
    }
   ],
   "source": [
    "pip install cryptography"
   ]
  },
  {
   "cell_type": "code",
   "execution_count": 51,
   "id": "0fb97c0c-8ad3-4303-a270-c077771fbf86",
   "metadata": {},
   "outputs": [],
   "source": [
    "from cryptography.fernet import Fernet\n",
    "# This snippet generates a key for encryption\n",
    "key = Fernet.generate_key()\n",
    "cipher_suite = Fernet(key)\n",
    "\n",
    "# Here we save the key for later decryption\n",
    "with open('secret.key', 'wb') as key_file:\n",
    "    key_file.write(key)\n",
    "\n",
    "# We convert dataset to CSV string and encrypt\n",
    "csv_data = df.to_csv(index=False).encode()\n",
    "encrypted_data = cipher_suite.encrypt(csv_data)\n",
    "\n",
    "# Then save encrypted data to a file\n",
    "with open('encrypted_dataset.csv', 'wb') as file:\n",
    "    file.write(encrypted_data)\n"
   ]
  },
  {
   "cell_type": "code",
   "execution_count": 52,
   "id": "fde64dbf-37ee-4e9e-b583-76d7032845dd",
   "metadata": {},
   "outputs": [],
   "source": [
    "from cryptography.fernet import Fernet\n",
    "# We load the encryption key\n",
    "with open('secret.key', 'rb') as key_file:\n",
    "    key = key_file.read()\n",
    "cipher_suite = Fernet(key)\n",
    "#We load and decrypt the dataset\n",
    "with open('encrypted_dataset.csv', 'rb') as file:\n",
    "    encrypted_data = file.read()\n",
    "decrypted_data = cipher_suite.decrypt(encrypted_data)\n",
    "# Then convert back to DataFrame\n",
    "import pandas as pd\n",
    "from io import StringIO\n",
    "df_decrypted = pd.read_csv(StringIO(decrypted_data.decode()), low_memory=False)\n",
    "\n"
   ]
  },
  {
   "cell_type": "code",
   "execution_count": 53,
   "id": "481792e6-2b08-4829-8317-fe3d846a6afb",
   "metadata": {},
   "outputs": [],
   "source": [
    "df.to_csv('preprocessed_dataset.csv', index=False)"
   ]
  },
  {
   "cell_type": "code",
   "execution_count": null,
   "id": "8515e763-ff11-402b-a94e-3b1e46757756",
   "metadata": {},
   "outputs": [],
   "source": []
  }
 ],
 "metadata": {
  "kernelspec": {
   "display_name": "Python 3 (ipykernel)",
   "language": "python",
   "name": "python3"
  },
  "language_info": {
   "codemirror_mode": {
    "name": "ipython",
    "version": 3
   },
   "file_extension": ".py",
   "mimetype": "text/x-python",
   "name": "python",
   "nbconvert_exporter": "python",
   "pygments_lexer": "ipython3",
   "version": "3.12.0"
  }
 },
 "nbformat": 4,
 "nbformat_minor": 5
}
